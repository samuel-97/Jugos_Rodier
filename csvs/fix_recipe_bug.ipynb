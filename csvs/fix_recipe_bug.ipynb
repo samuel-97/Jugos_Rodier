{
 "cells": [
  {
   "cell_type": "markdown",
   "metadata": {},
   "source": [
    "recipe(inventory_id), a foreign key, did not match inventory(inventory_id), the reference, violating the foreign key constraint. This was true at before this notebook was created.\n",
    "\n",
    "The issue is that I changed inventory(inventory_id) to beginning with the string 'inv' instead of 'ing'. This change was not reflected in recipe(inventory_id)"
   ]
  },
  {
   "cell_type": "code",
   "execution_count": 17,
   "metadata": {},
   "outputs": [
    {
     "data": {
      "text/html": [
       "<div>\n",
       "<style scoped>\n",
       "    .dataframe tbody tr th:only-of-type {\n",
       "        vertical-align: middle;\n",
       "    }\n",
       "\n",
       "    .dataframe tbody tr th {\n",
       "        vertical-align: top;\n",
       "    }\n",
       "\n",
       "    .dataframe thead th {\n",
       "        text-align: right;\n",
       "    }\n",
       "</style>\n",
       "<table border=\"1\" class=\"dataframe\">\n",
       "  <thead>\n",
       "    <tr style=\"text-align: right;\">\n",
       "      <th></th>\n",
       "      <th>row_id</th>\n",
       "      <th>recipe_id</th>\n",
       "      <th>inventory_id</th>\n",
       "      <th>inventory_name</th>\n",
       "      <th>recipe_servings</th>\n",
       "    </tr>\n",
       "  </thead>\n",
       "  <tbody>\n",
       "    <tr>\n",
       "      <th>0</th>\n",
       "      <td>1</td>\n",
       "      <td>01avch02</td>\n",
       "      <td>ing01</td>\n",
       "      <td>bread</td>\n",
       "      <td>1.0</td>\n",
       "    </tr>\n",
       "    <tr>\n",
       "      <th>1</th>\n",
       "      <td>2</td>\n",
       "      <td>01avch02</td>\n",
       "      <td>ing06</td>\n",
       "      <td>avocado</td>\n",
       "      <td>0.5</td>\n",
       "    </tr>\n",
       "    <tr>\n",
       "      <th>2</th>\n",
       "      <td>3</td>\n",
       "      <td>01avch02</td>\n",
       "      <td>ing05</td>\n",
       "      <td>chicken</td>\n",
       "      <td>1.5</td>\n",
       "    </tr>\n",
       "    <tr>\n",
       "      <th>3</th>\n",
       "      <td>4</td>\n",
       "      <td>01avch02</td>\n",
       "      <td>ing03</td>\n",
       "      <td>swiss</td>\n",
       "      <td>1.0</td>\n",
       "    </tr>\n",
       "    <tr>\n",
       "      <th>4</th>\n",
       "      <td>5</td>\n",
       "      <td>01avch03</td>\n",
       "      <td>ing01</td>\n",
       "      <td>bread</td>\n",
       "      <td>1.0</td>\n",
       "    </tr>\n",
       "  </tbody>\n",
       "</table>\n",
       "</div>"
      ],
      "text/plain": [
       "   row_id recipe_id inventory_id inventory_name  recipe_servings\n",
       "0       1  01avch02        ing01          bread              1.0\n",
       "1       2  01avch02        ing06        avocado              0.5\n",
       "2       3  01avch02        ing05        chicken              1.5\n",
       "3       4  01avch02        ing03          swiss              1.0\n",
       "4       5  01avch03        ing01          bread              1.0"
      ]
     },
     "execution_count": 17,
     "metadata": {},
     "output_type": "execute_result"
    }
   ],
   "source": [
    "# import pandas library: \n",
    "import pandas as pd\n",
    "\n",
    "# Read in recipe.csv\n",
    "df = pd.read_csv('/home/srodier/repos/jugos_rodier/csvs/recipe.csv')\n",
    "\n",
    "df.head()"
   ]
  },
  {
   "cell_type": "markdown",
   "metadata": {},
   "source": [
    "Preliminary Plan\n",
    "\n",
    "- First, I am going to split the inventory_ids at the letter g and leave just the digit part. \n",
    "- Then, I'm going to use a for-loop and the .join() method to add 'inv' to the beginning of each string and rewrite each value"
   ]
  },
  {
   "cell_type": "code",
   "execution_count": 18,
   "metadata": {},
   "outputs": [
    {
     "data": {
      "text/html": [
       "<div>\n",
       "<style scoped>\n",
       "    .dataframe tbody tr th:only-of-type {\n",
       "        vertical-align: middle;\n",
       "    }\n",
       "\n",
       "    .dataframe tbody tr th {\n",
       "        vertical-align: top;\n",
       "    }\n",
       "\n",
       "    .dataframe thead th {\n",
       "        text-align: right;\n",
       "    }\n",
       "</style>\n",
       "<table border=\"1\" class=\"dataframe\">\n",
       "  <thead>\n",
       "    <tr style=\"text-align: right;\">\n",
       "      <th></th>\n",
       "      <th>row_id</th>\n",
       "      <th>recipe_id</th>\n",
       "      <th>inventory_id</th>\n",
       "      <th>inventory_name</th>\n",
       "      <th>recipe_servings</th>\n",
       "    </tr>\n",
       "  </thead>\n",
       "  <tbody>\n",
       "    <tr>\n",
       "      <th>0</th>\n",
       "      <td>1</td>\n",
       "      <td>01avch02</td>\n",
       "      <td>inv01</td>\n",
       "      <td>bread</td>\n",
       "      <td>1.0</td>\n",
       "    </tr>\n",
       "    <tr>\n",
       "      <th>1</th>\n",
       "      <td>2</td>\n",
       "      <td>01avch02</td>\n",
       "      <td>inv06</td>\n",
       "      <td>avocado</td>\n",
       "      <td>0.5</td>\n",
       "    </tr>\n",
       "    <tr>\n",
       "      <th>2</th>\n",
       "      <td>3</td>\n",
       "      <td>01avch02</td>\n",
       "      <td>inv05</td>\n",
       "      <td>chicken</td>\n",
       "      <td>1.5</td>\n",
       "    </tr>\n",
       "    <tr>\n",
       "      <th>3</th>\n",
       "      <td>4</td>\n",
       "      <td>01avch02</td>\n",
       "      <td>inv03</td>\n",
       "      <td>swiss</td>\n",
       "      <td>1.0</td>\n",
       "    </tr>\n",
       "    <tr>\n",
       "      <th>4</th>\n",
       "      <td>5</td>\n",
       "      <td>01avch03</td>\n",
       "      <td>inv01</td>\n",
       "      <td>bread</td>\n",
       "      <td>1.0</td>\n",
       "    </tr>\n",
       "  </tbody>\n",
       "</table>\n",
       "</div>"
      ],
      "text/plain": [
       "   row_id recipe_id inventory_id inventory_name  recipe_servings\n",
       "0       1  01avch02        inv01          bread              1.0\n",
       "1       2  01avch02        inv06        avocado              0.5\n",
       "2       3  01avch02        inv05        chicken              1.5\n",
       "3       4  01avch02        inv03          swiss              1.0\n",
       "4       5  01avch03        inv01          bread              1.0"
      ]
     },
     "execution_count": 18,
     "metadata": {},
     "output_type": "execute_result"
    }
   ],
   "source": [
    "# fix inventory_id\n",
    "\n",
    "for i in range(len(df)):\n",
    "    id = df.loc[i, 'inventory_id']\n",
    "    split = id.removeprefix('ing')\n",
    "    df.loc[i, 'inventory_id'] = 'inv'+split\n",
    "\n",
    "\n",
    "df.head()"
   ]
  },
  {
   "cell_type": "code",
   "execution_count": 20,
   "metadata": {},
   "outputs": [],
   "source": [
    "# write to csv: \n",
    "\n",
    "df.to_csv(\"/home/srodier/repos/jugos_rodier/csvs/recipe.csv\",index = False)"
   ]
  }
 ],
 "metadata": {
  "kernelspec": {
   "display_name": "venv",
   "language": "python",
   "name": "python3"
  },
  "language_info": {
   "codemirror_mode": {
    "name": "ipython",
    "version": 3
   },
   "file_extension": ".py",
   "mimetype": "text/x-python",
   "name": "python",
   "nbconvert_exporter": "python",
   "pygments_lexer": "ipython3",
   "version": "3.12.1"
  }
 },
 "nbformat": 4,
 "nbformat_minor": 2
}
